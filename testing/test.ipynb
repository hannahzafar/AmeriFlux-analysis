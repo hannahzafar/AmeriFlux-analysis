{
 "cells": [
  {
   "cell_type": "code",
   "execution_count": 1,
   "id": "e9d424e3-8fff-4e4b-9e53-4bfa6ad4b68d",
   "metadata": {},
   "outputs": [],
   "source": [
    "#!/usr/bin/env python\n",
    "# Extract fluxnet and micasa data as csv for plotting\n",
    "import numpy as np\n",
    "import matplotlib as mpl\n",
    "import matplotlib.pyplot as plt\n",
    "import pandas as pd\n",
    "import xarray as xr\n",
    "import glob\n",
    "import argparse\n",
    "import sys\n",
    "import os\n",
    "import pytz\n",
    "from timezonefinder import TimezoneFinder"
   ]
  },
  {
   "cell_type": "code",
   "execution_count": 2,
   "id": "36163bc3-246e-4381-86ee-3067fd3de178",
   "metadata": {},
   "outputs": [],
   "source": [
    "######### functions ############\n",
    "def get_single_match(pattern):\n",
    "    matches = glob.glob(pattern)\n",
    "    if len(matches) == 1:\n",
    "        return matches[0]\n",
    "    elif len(matches) == 0:\n",
    "        raise ValueError(\"No matches found\")\n",
    "    else:\n",
    "        raise ValueError(f\"Multiple matches found: {matches}\")"
   ]
  },
  {
   "cell_type": "code",
   "execution_count": 18,
   "id": "a34a7525-9dca-4911-b92b-12c2ada4712c",
   "metadata": {},
   "outputs": [],
   "source": [
    "site_ID = 'US-Ne1'\n",
    "timedelta = 'DD'\n",
    "micasa_var = 'NEE'"
   ]
  },
  {
   "cell_type": "code",
   "execution_count": 19,
   "id": "b2734ece-8485-4c6c-a206-f9f41a222ba1",
   "metadata": {},
   "outputs": [],
   "source": [
    "# Open site ID metadata and extract lat/lon\n",
    "filepath = 'ameriflux-data/'\n",
    "meta_file = filepath + 'AmeriFlux-site-search-results-202410071335.tsv'\n",
    "ameriflux_meta = pd.read_csv(meta_file, sep='\\t')\n",
    "site_lat = ameriflux_meta.loc[ameriflux_meta['Site ID'] == site_ID, 'Latitude (degrees)'].values\n",
    "site_lon = ameriflux_meta.loc[ameriflux_meta['Site ID'] == site_ID, 'Longitude (degrees)'].values\n"
   ]
  },
  {
   "cell_type": "code",
   "execution_count": 20,
   "id": "fbb30dd3-2db0-4086-98a1-35c9a7a0ed13",
   "metadata": {},
   "outputs": [],
   "source": [
    "# # Test one path\n",
    "# path_list = ['micasa-data/daily-0.1deg-final/holding/daily/2001/01/MiCASA_v1_flux_x3600_y1800_daily_20010120.nc4']\n",
    "\n",
    "# with xr.open_mfdataset(path_list)[micasa_var] as ds:\n",
    "#     # Select grid closest to selected site\n",
    "#     ds_subset = ds.sel(lon=site_lon, lat=site_lat, method='nearest')\n",
    "\n",
    "#     # Prep data for writing to csv\n",
    "#     ds_out = ds_subset.squeeze(dim=['lat','lon'],drop=True).to_dataframe()\n",
    "#     ds_out = ds_out.rename(columns={micasa_var: f'MiCASA {micasa_var} ({test_ds[micasa_var].units})'})\n",
    "\n",
    "#     # Write to csv\n",
    "#     output_dir = 'output'\n",
    "#     output_filename = f'{site_ID}_micasa_{micasa_var}_{timedelta}.csv'\n",
    "#     output_path = os.path.join(output_dir, output_filename)\n",
    "\n",
    "#     os.makedirs(output_dir, exist_ok=True)\n",
    "\n",
    "#     ds_out.to_csv(output_path)\n"
   ]
  },
  {
   "cell_type": "code",
   "execution_count": 7,
   "id": "7ecac34a-30a5-48bd-bc2e-fcaccd3307e6",
   "metadata": {},
   "outputs": [],
   "source": [
    "test_ds = xr.open_dataset('micasa-data/daily-0.1deg-final/holding/daily/2001/01/MiCASA_v1_flux_x3600_y1800_daily_20010120.nc4')"
   ]
  },
  {
   "cell_type": "code",
   "execution_count": 10,
   "id": "a538b839-3fec-4df5-b821-eea9fac396d7",
   "metadata": {},
   "outputs": [
    {
     "data": {
      "text/plain": [
       "'kg m-2 s-1'"
      ]
     },
     "execution_count": 10,
     "metadata": {},
     "output_type": "execute_result"
    }
   ],
   "source": [
    "test_ds[micasa_var].units"
   ]
  },
  {
   "cell_type": "code",
   "execution_count": 15,
   "id": "54e349b3-3cf1-4829-a848-bdf572947d6a",
   "metadata": {},
   "outputs": [
    {
     "data": {
      "text/plain": [
       "'MiCASA NPP (kg m-2 s-1)'"
      ]
     },
     "execution_count": 15,
     "metadata": {},
     "output_type": "execute_result"
    }
   ],
   "source": [
    "column_name = f'MiCASA {micasa_var} ({test_ds[micasa_var].units})'\n",
    "column_name"
   ]
  },
  {
   "cell_type": "code",
   "execution_count": null,
   "id": "c8c26220-b5b7-414d-bcb0-204e53caf265",
   "metadata": {},
   "outputs": [],
   "source": []
  }
 ],
 "metadata": {
  "kernelspec": {
   "display_name": "micasa",
   "language": "python",
   "name": "micasa"
  },
  "language_info": {
   "codemirror_mode": {
    "name": "ipython",
    "version": 3
   },
   "file_extension": ".py",
   "mimetype": "text/x-python",
   "name": "python",
   "nbconvert_exporter": "python",
   "pygments_lexer": "ipython3",
   "version": "3.12.7"
  }
 },
 "nbformat": 4,
 "nbformat_minor": 5
}
